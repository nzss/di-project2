{
 "cells": [
  {
   "cell_type": "markdown",
   "metadata": {},
   "source": [
    "https://www.reddit.com/dev/api/,www.finance.yahoo.com"
   ]
  },
  {
   "cell_type": "markdown",
   "metadata": {},
   "source": [
    "## Propose a project"
   ]
  },
  {
   "cell_type": "markdown",
   "metadata": {},
   "source": []
  },
  {
   "cell_type": "code",
   "execution_count": null,
   "metadata": {
    "collapsed": false
   },
   "outputs": [],
   "source": []
  },
  {
   "cell_type": "code",
   "execution_count": 14,
   "metadata": {
    "collapsed": false
   },
   "outputs": [],
   "source": [
    "import praw\n",
    "\n",
    "reddit = praw.Reddit(client_id=clientid,\n",
    "                     client_secret= secret, password=password,\n",
    "                     user_agent='agent', username=developers)"
   ]
  },
  {
   "cell_type": "code",
   "execution_count": 39,
   "metadata": {
    "collapsed": false
   },
   "outputs": [
    {
     "name": "stdout",
     "output_type": "stream",
     "text": [
      "Any form of threatening, harassing, or violence / physical harm towards anyone will result in a ban\n",
      "Got a tech question or want to discuss tech? Weekly /r/Technology Tech Support / General Discussion Thread\n",
      "IT'S OFFICIAL: IBM is acquiring software company Red Hat for $34 billion\n"
     ]
    }
   ],
   "source": [
    "subreddit = reddit.subreddit('technology')\n",
    "\n",
    "hot_python = subreddit.hot(limit = 3)\n",
    "\n",
    "for submission in hot_python:\n",
    "    print(submission.title)"
   ]
  },
  {
   "cell_type": "code",
   "execution_count": 30,
   "metadata": {
    "collapsed": false
   },
   "outputs": [
    {
     "name": "stdout",
     "output_type": "stream",
     "text": [
      "Trump's tariffs on Chinese goods to affect some AMD and Nvidia gaming graphics cards\n",
      "9jdami\n",
      "AMD will surpass Intel on CPU performance next year, says leading tech analysts\n",
      "9g42q1\n"
     ]
    }
   ],
   "source": [
    "for i in subreddit.search(\"AMD\", limit=2):\n",
    "    title = i.title\n",
    "    subid = i.id\n",
    "    print title\n",
    "    print subid"
   ]
  },
  {
   "cell_type": "code",
   "execution_count": 31,
   "metadata": {
    "collapsed": false
   },
   "outputs": [],
   "source": [
    "submission = reddit.submission(id='9jdami')"
   ]
  },
  {
   "cell_type": "code",
   "execution_count": 32,
   "metadata": {
    "collapsed": false
   },
   "outputs": [
    {
     "name": "stdout",
     "output_type": "stream",
     "text": [
      "Pretty soon they are gonna need to start storing unsold graphics cards inside of Fort Knox based on their pricing rise.\n",
      "Would this impact existing products? I was considering picking up a 1080ti after the 2080ti has been down for a while but don't want it to cost more than it does now.\n",
      "The reason why the 2080ti is  priced at 1000 finally made clear.\n",
      "We live in a society.\n",
      "Or they can always make it in a non-tariff country.\n",
      "Nah they just need to engage contract manufacturers in Taiwan or elsewhere.  Or ship parts from China and assemble in Malaysia, or..... so many other ways to get around the tarriff. \n",
      "As the prices of all consumer goods rise, retailers need to start putting big bold stickers on products that cost way more \"Price increase due to Donald Trump's trade tariffs.\"\n",
      "God damn it, I need an upgrade for my graphics card. Sucks using a 960 still :c\n",
      "Imma get that geforce graphics card before the end of this year!\n",
      "They should just \"bundle\" the cards in cheap towers or cases. \n",
      "Would it be cheaper if I bought a GPU in China? Going there in a month\n",
      "This hurt. On one hand GPU prices are already bubbling because of crypto coin mining. On the other only true nerds would start caring about voting, in the midst of a mass extinction event, when their Hardware gets threatened. \n",
      "As long as other countries punish the US by placing huge tariffs on stuff that we produce, thereby impacting profits of the rich, it's okay with me. As a consumer, I don't want to be the only one getting financially fucked during this pathetic spat.\n",
      "\n",
      "If we tariff China by 10%, they can tariff us by 15%. And so on and so fourth. I have loyalty to no one.\n",
      "We even get propaganda in /r/technology, I love it.\n",
      "Oh good, they werent expensive enough to begin with\n",
      "i'm curious, would this affect canadian prices? Like are the cards imported into canada and not subject to the tarrifs, or are they imported into america first, then exported to canada and thus have to go through some tarrifs?\n",
      "Good, once they come back to NA I can sleep better knowing slave labor wasnt used to produce them.\n",
      "Good, once they come back to NA I can sleep better knowing slave labor wasnt used to produce them.\n",
      "They targeted gamers.\n",
      "\n",
      "Gamers.\n",
      "Haha, now I can run gpus across the American border for a profit. #snowmexican #icewall\n"
     ]
    }
   ],
   "source": [
    "for top_level_comment in submission.comments:\n",
    "    print(top_level_comment.body)"
   ]
  },
  {
   "cell_type": "code",
   "execution_count": 37,
   "metadata": {
    "collapsed": false
   },
   "outputs": [
    {
     "name": "stdout",
     "output_type": "stream",
     "text": [
      "Pretty soon they are gonna need to start storing unsold graphics cards inside of Fort Knox based on their pricing rise.\n",
      "Would this impact existing products? I was considering picking up a 1080ti after the 2080ti has been down for a while but don't want it to cost more than it does now.\n",
      "The reason why the 2080ti is  priced at 1000 finally made clear.\n",
      "We live in a society.\n",
      "Or they can always make it in a non-tariff country.\n",
      "Nah they just need to engage contract manufacturers in Taiwan or elsewhere.  Or ship parts from China and assemble in Malaysia, or..... so many other ways to get around the tarriff. \n",
      "As the prices of all consumer goods rise, retailers need to start putting big bold stickers on products that cost way more \"Price increase due to Donald Trump's trade tariffs.\"\n",
      "God damn it, I need an upgrade for my graphics card. Sucks using a 960 still :c\n",
      "Imma get that geforce graphics card before the end of this year!\n",
      "They should just \"bundle\" the cards in cheap towers or cases. \n",
      "Would it be cheaper if I bought a GPU in China? Going there in a month\n",
      "This hurt. On one hand GPU prices are already bubbling because of crypto coin mining. On the other only true nerds would start caring about voting, in the midst of a mass extinction event, when their Hardware gets threatened. \n",
      "As long as other countries punish the US by placing huge tariffs on stuff that we produce, thereby impacting profits of the rich, it's okay with me. As a consumer, I don't want to be the only one getting financially fucked during this pathetic spat.\n",
      "\n",
      "If we tariff China by 10%, they can tariff us by 15%. And so on and so fourth. I have loyalty to no one.\n",
      "We even get propaganda in /r/technology, I love it.\n",
      "Oh good, they werent expensive enough to begin with\n",
      "i'm curious, would this affect canadian prices? Like are the cards imported into canada and not subject to the tarrifs, or are they imported into america first, then exported to canada and thus have to go through some tarrifs?\n",
      "Good, once they come back to NA I can sleep better knowing slave labor wasnt used to produce them.\n",
      "Good, once they come back to NA I can sleep better knowing slave labor wasnt used to produce them.\n",
      "They targeted gamers.\n",
      "\n",
      "Gamers.\n",
      "Haha, now I can run gpus across the American border for a profit. #snowmexican #icewall\n"
     ]
    }
   ],
   "source": [
    "from praw.models import MoreComments\n",
    "\n",
    "for top_level_comment in submission.comments:\n",
    "    if isinstance(top_level_comment, MoreComments):\n",
    "        continue\n",
    "    print(top_level_comment.body)"
   ]
  },
  {
   "cell_type": "code",
   "execution_count": 33,
   "metadata": {
    "collapsed": false
   },
   "outputs": [
    {
     "data": {
      "text/plain": [
       "224"
      ]
     },
     "execution_count": 33,
     "metadata": {},
     "output_type": "execute_result"
    }
   ],
   "source": [
    "import sys\n",
    "\n",
    "sys.getsizeof(top_level_comment.body)"
   ]
  },
  {
   "cell_type": "code",
   "execution_count": 17,
   "metadata": {
    "collapsed": true
   },
   "outputs": [],
   "source": [
    "for submission in hot_python:\n",
    "    if not submission.stickied:\n",
    "        print('Title: {}, ups: {}, downs: {}, Have we visited?: {}'.format(submission.title,\n",
    "                                                                           submission.ups,\n",
    "                                                                           submission.downs,\n",
    "                                                                           submission.visited))"
   ]
  },
  {
   "cell_type": "code",
   "execution_count": null,
   "metadata": {
    "collapsed": true
   },
   "outputs": [],
   "source": [
    "quandlkey = 'kwpSd-EtzUzRsN4QVzYP'"
   ]
  },
  {
   "cell_type": "code",
   "execution_count": null,
   "metadata": {
    "collapsed": true
   },
   "outputs": [],
   "source": [
    "stock = 'AAPL'\n",
    "link = 'https://www.quandl.com/api/v3/datasets/EOD/'+stock+'.csv?api_key='+quandlkey"
   ]
  },
  {
   "cell_type": "code",
   "execution_count": 45,
   "metadata": {
    "collapsed": false
   },
   "outputs": [
    {
     "data": {
      "text/plain": [
       "132608"
      ]
     },
     "execution_count": 45,
     "metadata": {},
     "output_type": "execute_result"
    }
   ],
   "source": [
    "import quandl\n",
    "\n",
    "sys.getsizeof(quandl.get(\"EIA/PET_RWTC_D\"))\n"
   ]
  },
  {
   "cell_type": "code",
   "execution_count": 54,
   "metadata": {
    "collapsed": true
   },
   "outputs": [],
   "source": [
    "import pandas as pd\n",
    "\n",
    "amd = pd.read_csv('stock/AMD.csv')"
   ]
  },
  {
   "cell_type": "code",
   "execution_count": 58,
   "metadata": {
    "collapsed": false
   },
   "outputs": [
    {
     "data": {
      "text/html": [
       "<div>\n",
       "<style scoped>\n",
       "    .dataframe tbody tr th:only-of-type {\n",
       "        vertical-align: middle;\n",
       "    }\n",
       "\n",
       "    .dataframe tbody tr th {\n",
       "        vertical-align: top;\n",
       "    }\n",
       "\n",
       "    .dataframe thead th {\n",
       "        text-align: right;\n",
       "    }\n",
       "</style>\n",
       "<table border=\"1\" class=\"dataframe\">\n",
       "  <thead>\n",
       "    <tr style=\"text-align: right;\">\n",
       "      <th></th>\n",
       "      <th>Date</th>\n",
       "      <th>Open</th>\n",
       "      <th>High</th>\n",
       "      <th>Low</th>\n",
       "      <th>Close</th>\n",
       "      <th>Adj Close</th>\n",
       "      <th>Volume</th>\n",
       "    </tr>\n",
       "  </thead>\n",
       "  <tbody>\n",
       "    <tr>\n",
       "      <th>0</th>\n",
       "      <td>2018-07-30</td>\n",
       "      <td>19.400000</td>\n",
       "      <td>20.180000</td>\n",
       "      <td>19.309999</td>\n",
       "      <td>19.420000</td>\n",
       "      <td>19.420000</td>\n",
       "      <td>160823400</td>\n",
       "    </tr>\n",
       "    <tr>\n",
       "      <th>1</th>\n",
       "      <td>2018-07-31</td>\n",
       "      <td>19.350000</td>\n",
       "      <td>19.500000</td>\n",
       "      <td>18.270000</td>\n",
       "      <td>18.330000</td>\n",
       "      <td>18.330000</td>\n",
       "      <td>118403400</td>\n",
       "    </tr>\n",
       "    <tr>\n",
       "      <th>2</th>\n",
       "      <td>2018-08-01</td>\n",
       "      <td>18.340000</td>\n",
       "      <td>18.950001</td>\n",
       "      <td>18.320000</td>\n",
       "      <td>18.480000</td>\n",
       "      <td>18.480000</td>\n",
       "      <td>75495200</td>\n",
       "    </tr>\n",
       "    <tr>\n",
       "      <th>3</th>\n",
       "      <td>2018-08-02</td>\n",
       "      <td>18.170000</td>\n",
       "      <td>18.830000</td>\n",
       "      <td>18.000000</td>\n",
       "      <td>18.790001</td>\n",
       "      <td>18.790001</td>\n",
       "      <td>52867100</td>\n",
       "    </tr>\n",
       "    <tr>\n",
       "      <th>4</th>\n",
       "      <td>2018-08-03</td>\n",
       "      <td>18.940001</td>\n",
       "      <td>19.059999</td>\n",
       "      <td>18.370001</td>\n",
       "      <td>18.490000</td>\n",
       "      <td>18.490000</td>\n",
       "      <td>53232100</td>\n",
       "    </tr>\n",
       "  </tbody>\n",
       "</table>\n",
       "</div>"
      ],
      "text/plain": [
       "        Date       Open       High        Low      Close  Adj Close     Volume\n",
       "0 2018-07-30  19.400000  20.180000  19.309999  19.420000  19.420000  160823400\n",
       "1 2018-07-31  19.350000  19.500000  18.270000  18.330000  18.330000  118403400\n",
       "2 2018-08-01  18.340000  18.950001  18.320000  18.480000  18.480000   75495200\n",
       "3 2018-08-02  18.170000  18.830000  18.000000  18.790001  18.790001   52867100\n",
       "4 2018-08-03  18.940001  19.059999  18.370001  18.490000  18.490000   53232100"
      ]
     },
     "execution_count": 58,
     "metadata": {},
     "output_type": "execute_result"
    }
   ],
   "source": [
    "amd.head()"
   ]
  },
  {
   "cell_type": "code",
   "execution_count": 57,
   "metadata": {
    "collapsed": false
   },
   "outputs": [],
   "source": [
    "amd['Date'] = pd.to_datetime(amd['Date'])"
   ]
  },
  {
   "cell_type": "code",
   "execution_count": 61,
   "metadata": {
    "collapsed": false
   },
   "outputs": [],
   "source": [
    "amd_series = pd.Series(amd['Close'], index=amd['Date'])"
   ]
  },
  {
   "cell_type": "code",
   "execution_count": 137,
   "metadata": {
    "collapsed": false
   },
   "outputs": [
    {
     "data": {
      "text/plain": [
       "<matplotlib.axes._subplots.AxesSubplot at 0x117ec09d0>"
      ]
     },
     "execution_count": 137,
     "metadata": {},
     "output_type": "execute_result"
    },
    {
     "data": {
      "image/png": "[encoded data removed]",
      "text/plain": [
       "<Figure size 600x400 with 1 Axes>"
      ]
     },
     "metadata": {},
     "output_type": "display_data"
    }
   ],
   "source": [
    "%matplotlib inline\n",
    "\n",
    "amd.plot(x='Date', y='Close', title='AMD stock prices')\n"
   ]
  },
  {
   "cell_type": "code",
   "execution_count": 114,
   "metadata": {
    "collapsed": false
   },
   "outputs": [],
   "source": [
    "from datetime import datetime, timedelta\n",
    "import unicodedata\n",
    "\n",
    "df = pd.DataFrame(columns=['date', 'id', 'title', 'comments'])\n",
    "\n",
    "for i in subreddit.search(\"AMD\",time_filter='year'):\n",
    "    title = i.title\n",
    "    subid = i.id\n",
    "    sec = i.created_utc\n",
    "    #print title\n",
    "    #print subid\n",
    "    #print sec\n",
    "    utc_date = datetime(1970, 1, 1, 0, 0, 0)\n",
    "    date =  utc_date+ timedelta(seconds=sec)\n",
    "    i.comment_sort = 'top'\n",
    "    #comments = i.comments.list()\n",
    "    #print date\n",
    "    \n",
    "    #print comments\n",
    "    \n",
    "    all_comments =''\n",
    "    for top_level_comment in i.comments:\n",
    "        if isinstance(top_level_comment, MoreComments):\n",
    "            continue\n",
    "        comment = top_level_comment.body\n",
    "        #print comment\n",
    "        comment_str = unicodedata.normalize('NFKD', comment).encode('ascii','ignore')\n",
    "        \n",
    "        all_comments += ' '+ comment_str\n",
    "        #print all_comments\n",
    "    \n",
    "    \n",
    "    df = df.append({'date': date, 'id': subid, 'title':title, 'comments': all_comments}, ignore_index=True)\n"
   ]
  },
  {
   "cell_type": "code",
   "execution_count": 115,
   "metadata": {
    "collapsed": false
   },
   "outputs": [
    {
     "data": {
      "text/plain": [
       "162620"
      ]
     },
     "execution_count": 115,
     "metadata": {},
     "output_type": "execute_result"
    }
   ],
   "source": [
    "sys.getsizeof(df)"
   ]
  },
  {
   "cell_type": "code",
   "execution_count": 128,
   "metadata": {
    "collapsed": false
   },
   "outputs": [],
   "source": [
    "df_recent = df[df['date'] > datetime(2018,7,30)]"
   ]
  },
  {
   "cell_type": "code",
   "execution_count": 127,
   "metadata": {
    "collapsed": true
   },
   "outputs": [],
   "source": [
    "#import io\n",
    "#import codecs\n",
    "#from vaderSentiment.vaderSentiment import SentimentIntensityAnalyzer\n",
    "\n",
    "\n",
    "#analyser = SentimentIntensityAnalyzer()\n",
    "\n",
    "#def sentiment_analyzer_scores(sentence):\n",
    " #   score = analyser.polarity_scores(sentence)\n",
    "  #  print(\"{:-<40} {}\".format(sentence, str(score)))\n"
   ]
  },
  {
   "cell_type": "code",
   "execution_count": 126,
   "metadata": {
    "collapsed": false
   },
   "outputs": [
    {
     "data": {
      "text/plain": [
       "Sentiment(polarity=0.5599999999999999, subjectivity=0.5814285714285714)"
      ]
     },
     "execution_count": 126,
     "metadata": {},
     "output_type": "execute_result"
    }
   ],
   "source": [
    "from textblob import TextBlob\n",
    "testimonial = TextBlob(\"Textblob is amazingly simple to use. What great fun! I love it! It's awesome.\")\n",
    "print testimonial.sentiment\n",
    "print testimonial.sentiment[0]"
   ]
  },
  {
   "cell_type": "code",
   "execution_count": 133,
   "metadata": {
    "collapsed": false
   },
   "outputs": [],
   "source": [
    "df['polarity'] = df_recent['comments'].apply(lambda x: TextBlob(x).sentiment[0])"
   ]
  },
  {
   "cell_type": "code",
   "execution_count": 138,
   "metadata": {
    "collapsed": false
   },
   "outputs": [
    {
     "data": {
      "text/plain": [
       "<matplotlib.axes._subplots.AxesSubplot at 0x117eb8350>"
      ]
     },
     "execution_count": 138,
     "metadata": {},
     "output_type": "execute_result"
    },
    {
     "data": {
      "image/png": "[encoded data removed]",
      "text/plain": [
       "<Figure size 600x400 with 1 Axes>"
      ]
     },
     "metadata": {},
     "output_type": "display_data"
    }
   ],
   "source": [
    "df.plot(x='date', y = 'polarity', title ='AMD reddit polarity')"
   ]
  },
  {
   "cell_type": "code",
   "execution_count": null,
   "metadata": {
    "collapsed": true
   },
   "outputs": [],
   "source": []
  },
  {
   "cell_type": "code",
   "execution_count": null,
   "metadata": {
    "collapsed": true
   },
   "outputs": [],
   "source": []
  },
  {
   "cell_type": "code",
   "execution_count": null,
   "metadata": {
    "collapsed": true
   },
   "outputs": [],
   "source": []
  },
  {
   "cell_type": "code",
   "execution_count": null,
   "metadata": {
    "collapsed": true
   },
   "outputs": [],
   "source": []
  }
 ],
 "metadata": {
  "kernelspec": {
   "display_name": "Python 2",
   "language": "python",
   "name": "python2"
  },
  "language_info": {
   "codemirror_mode": {
    "name": "ipython",
    "version": 2
   },
   "file_extension": ".py",
   "mimetype": "text/x-python",
   "name": "python",
   "nbconvert_exporter": "python",
   "pygments_lexer": "ipython2",
   "version": "2.7.13"
  }
 },
 "nbformat": 4,
 "nbformat_minor": 0
}
